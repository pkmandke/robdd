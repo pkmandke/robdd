{
 "cells": [
  {
   "cell_type": "markdown",
   "metadata": {},
   "source": [
    "# Reduced Ordered Binary Decision Diagrams\n",
    "\n",
    "**Name**: Prathamesh Mandke\n",
    "\n",
    "**PID**: 906239574"
   ]
  },
  {
   "cell_type": "markdown",
   "metadata": {},
   "source": [
    "## Lab Overview\n",
    "\n",
    "Reduced Ordered Binary Decision Diagrams (ROBDDs) are concise representations of boolean expressions in the form of a directed acyclic graph.\n",
    "ROBDDs make use of the if-then-else (INF) form of boolean expressions to construct the graphical representation.\n",
    "An INF form of a boolean expression is one where any operations are only perfomed on variables with constants and INF statements.\n",
    "The practicality of using the INF form to construct ROBDDs for any boolean expression stems from the Shannon Expansion idea.\n",
    "Shannon Expansion involves breaking down an expression (with arbitrary number of variables) into an INF form by recursively setting and resetting the value of one variable at a time.\n",
    "From the perspective of implementation in digital logic, the Shannon Expansion involves cascading multiplexer circuits by considering all combinations of a boolean variable at a time.\n",
    "        \n",
    "When a complicated boolean expression is recursively broken down into it's INF, a series of INF statements are obtained.\n",
    "Now, if any redundant INF statements are combined, the resulting set of INF statements can be expressed as a binary decision diagram.\n",
    "When the order of variable selection is same across all recursive builds of the INF forms, the resulting decision diagram has nodes in the same order starting from the root.\n",
    "Such a BDD is said to be an ordered BDD.\n",
    "Going one step further, multiple nodes with the same left and right nodes can be combined since they are obviously redundant.\n",
    "Such reduction leads to a unique representation of the boolean expression known as the ROBDD.\n",
    "However, it is interesting to note that this representation is not unique to the order of variable selection and is in fact highly sensitive to it.\n",
    "        \n",
    "This work involves the implementation of a ROBDD for boolean operations AND, OR, NOT, IMPLICATION and EQUIVALENCE.\n",
    "The methods used to implement the ROBDD have been inspired from Henrik Anderson's document on Binary Decision Diagrams.\n"
   ]
  },
  {
   "cell_type": "code",
   "execution_count": 1,
   "metadata": {},
   "outputs": [],
   "source": [
    "import utils\n",
    "import wrapper"
   ]
  },
  {
   "cell_type": "code",
   "execution_count": 11,
   "metadata": {},
   "outputs": [
    {
     "name": "stdout",
     "output_type": "stream",
     "text": [
      "\r\n",
      "| u | i |  l |  h |\r\n",
      "| 0 | 5 | -1 | -1 |\r\n",
      "| 1 | 5 | -1 | -1 |\r\n",
      "| 2 | 4 | 1 | 0 |\r\n",
      "| 3 | 4 | 0 | 1 |\r\n",
      "| 4 | 3 | 2 | 3 |\r\n",
      "| 5 | 2 | 4 | 0 |\r\n",
      "| 6 | 2 | 0 | 4 |\r\n",
      "| 7 | 1 | 5 | 6 |\r\n"
     ]
    }
   ],
   "source": [
    "! python3 main.py --nvars 4 --expr \"and(equiv(x1, x2), equiv(x3, x4))\""
   ]
  },
  {
   "cell_type": "code",
   "execution_count": 13,
   "metadata": {},
   "outputs": [
    {
     "name": "stdout",
     "output_type": "stream",
     "text": [
      "ROBDD of expr 1 is:\r\n",
      "| u | i |  l |  h |\r\n",
      "| 0 | 3 | -1 | -1 |\r\n",
      "| 1 | 3 | -1 | -1 |\r\n",
      "| 2 | 2 | 0 | 1 |\r\n",
      "| 3 | 1 | 0 | 2 |\r\n",
      "\r\n",
      "ROBDD of expr 2 is:\r\n",
      "| u | i |  l |  h |\r\n",
      "| 0 | 3 | -1 | -1 |\r\n",
      "| 1 | 3 | -1 | -1 |\r\n",
      "| 2 | 2 | 0 | 1 |\r\n",
      "| 3 | 1 | 2 | 1 |\r\n",
      "\r\n",
      "Applying expr1 op expr2 returns:\r\n",
      "| u | i |  l |  h |\r\n",
      "| 0 | 5 | -1 | -1 |\r\n",
      "| 1 | 5 | -1 | -1 |\r\n",
      "| 2 | 2 | 1 | 0 |\r\n",
      "| 3 | 2 | 0 | 1 |\r\n",
      "| 4 | 1 | 2 | 3 |\r\n",
      "\r\n"
     ]
    }
   ],
   "source": [
    "## Testing Apply utility.\n",
    "\n",
    "# Expr1: and(x1, x2)\n",
    "# Expr2: or(x1, x2)\n",
    "# operation: \"equiv\"\n",
    "\n",
    "! python3 main.py --nvars1 2 --expr1 \"and(x1, x2)\" --nvars2 2 --expr2 \"or(x1, x2)\" --op \"equiv\" --call test_apply"
   ]
  },
  {
   "cell_type": "code",
   "execution_count": 14,
   "metadata": {},
   "outputs": [
    {
     "name": "stdout",
     "output_type": "stream",
     "text": [
      "Restricting expr or(and(x1, x2), x2) with j=1 with value 1.\n",
      "| u | i |  l |  h |\n",
      "| 0 | 2 | -1 | -1 |\n",
      "| 1 | 2 | -1 | -1 |\n",
      "| 2 | 2 | 0 | 1 |\n",
      "\n",
      "Restricting expr or(and(x1, x2), x2) with j=1 with value 0.\n",
      "| u | i |  l |  h |\n",
      "| 0 | 2 | -1 | -1 |\n",
      "| 1 | 2 | -1 | -1 |\n",
      "| 2 | 2 | 0 | 1 |\n",
      "\n",
      "Restricting expr or(and(x1, x2), x2) with j=2 with value 0.\n",
      "| u | i |  l |  h |\n",
      "| 0 | 2 | -1 | -1 |\n",
      "| 1 | 2 | -1 | -1 |\n",
      "\n",
      "Restricting expr or(and(x1, x2), x2) with j=2 with value 1.\n",
      "| u | i |  l |  h |\n",
      "| 0 | 2 | -1 | -1 |\n",
      "| 1 | 2 | -1 | -1 |\n",
      "\n"
     ]
    }
   ],
   "source": [
    "# Testing Restrict utility\n",
    "\n",
    "## Expr: \"or(and(x1, x2), x2)\"\n",
    "## settings:\n",
    "## 1. x1 = 1\n",
    "## 2. x1 = 0\n",
    "## 3. x2 = 0\n",
    "## 4. x2 = 1\n",
    "\n",
    "! python3 main.py --nvars 2 --expr \"or(and(x1, x2), x2)\" --j 1 --b 1 --call test_restrict\n",
    "! python3 main.py --nvars 2 --expr \"or(and(x1, x2), x2)\" --j 1 --b 0 --call test_restrict\n",
    "! python3 main.py --nvars 2 --expr \"or(and(x1, x2), x2)\" --j 2 --b 0 --call test_restrict\n",
    "! python3 main.py --nvars 2 --expr \"or(and(x1, x2), x2)\" --j 2 --b 1 --call test_restrict"
   ]
  },
  {
   "cell_type": "code",
   "execution_count": 3,
   "metadata": {},
   "outputs": [
    {
     "name": "stdout",
     "output_type": "stream",
     "text": [
      "Restricting expr not(or(and(x1, x2), equiv(x3, x4)) with j=1 with value 1.\n",
      "| u | i |  l |  h |\n",
      "| 0 | 5 | -1 | -1 |\n",
      "| 1 | 5 | -1 | -1 |\n",
      "| 2 | 4 | 0 | 1 |\n",
      "| 3 | 4 | 1 | 0 |\n",
      "| 4 | 3 | 2 | 3 |\n",
      "| 5 | 2 | 4 | 0 |\n",
      "\n",
      "Restricting expr not(or(and(x1, x2), equiv(x3, x4)) with j=3 with value 0.\n",
      "| u | i |  l |  h |\n",
      "| 0 | 5 | -1 | -1 |\n",
      "| 1 | 5 | -1 | -1 |\n",
      "| 2 | 4 | 0 | 1 |\n",
      "| 4 | 2 | 2 | 0 |\n",
      "| 5 | 1 | 2 | 4 |\n",
      "\n",
      "Restricting expr not(or(and(x1, x2), equiv(x3, x4)) with j=4 with value 1.\n",
      "| u | i |  l |  h |\n",
      "| 0 | 5 | -1 | -1 |\n",
      "| 1 | 5 | -1 | -1 |\n",
      "| 2 | 3 | 1 | 0 |\n",
      "| 3 | 2 | 2 | 0 |\n",
      "| 4 | 1 | 2 | 3 |\n",
      "\n"
     ]
    }
   ],
   "source": [
    "# Testing Restrict utility\n",
    "\n",
    "## Expression: not(or(and(x1, x2), equiv(x3, x4))\n",
    "## Settings:\n",
    "## 1. x1 = 1\n",
    "## 2. x3 = 0\n",
    "## 3. x4 = 1\n",
    "\n",
    "! python3 main.py --nvars 4 --expr \"not(or(and(x1, x2), equiv(x3, x4)))\" --j 1 --b 1 --call test_restrict\n",
    "! python3 main.py --nvars 4 --expr \"not(or(and(x1, x2), equiv(x3, x4)))\" --j 3 --b 0 --call test_restrict\n",
    "! python3 main.py --nvars 4 --expr \"not(or(and(x1, x2), equiv(x3, x4)))\" --j 4 --b 1 --call test_restrict"
   ]
  },
  {
   "cell_type": "code",
   "execution_count": 7,
   "metadata": {},
   "outputs": [
    {
     "name": "stdout",
     "output_type": "stream",
     "text": [
      "Working with expr: not(or(and(equiv(x1, x2), equiv(x3, x4)), or(equiv(imp(x1, x5), imp(x4, x6)), and(x3, x7))))\r\n",
      "Computing all Statistics for given expression.\r\n",
      "StatCount = 28\r\n",
      "AnySat: [x1...xN]: [0, 0, 0, 1, -1, 0, -1]\r\n",
      "\r\n",
      "AllSat returns:\r\n",
      "Variable numbers = [6, 4, 3, 2, 1]. Values: [0, 1, 0, 0, 0]\r\n",
      "Variable numbers = [6, 4, 3, 2, 1]. Values: [0, 1, 0, 1, 0]\r\n",
      "Variable numbers = [7, 6, 4, 3, 2, 1]. Values: [0, 0, 1, 1, 1, 0]\r\n",
      "Variable numbers = [5, 4, 3, 2, 1]. Values: [0, 0, 0, 0, 1]\r\n",
      "Variable numbers = [6, 5, 4, 3, 2, 1]. Values: [1, 0, 1, 0, 0, 1]\r\n",
      "Variable numbers = [6, 5, 4, 3, 2, 1]. Values: [0, 1, 1, 0, 0, 1]\r\n",
      "Variable numbers = [7, 5, 4, 3, 2, 1]. Values: [0, 0, 0, 1, 0, 1]\r\n",
      "Variable numbers = [7, 6, 5, 4, 3, 2, 1]. Values: [0, 1, 0, 1, 1, 0, 1]\r\n",
      "Variable numbers = [7, 6, 5, 4, 3, 2, 1]. Values: [0, 0, 1, 1, 1, 0, 1]\r\n",
      "Variable numbers = [6, 5, 4, 3, 2, 1]. Values: [1, 0, 1, 0, 1, 1]\r\n",
      "Variable numbers = [6, 5, 4, 3, 2, 1]. Values: [0, 1, 1, 0, 1, 1]\r\n",
      "Variable numbers = [7, 5, 4, 3, 2, 1]. Values: [0, 0, 0, 1, 1, 1]\r\n",
      "Total truth assignments considering don't cares from the above list is 28. This number must be same as StatCount.\r\n"
     ]
    }
   ],
   "source": [
    "# Testing Statistical measures\n",
    "\n",
    "## Expression: not(or(and(equiv(x1, x2), equiv(x3, x4)), or(equiv(imp(x1, x5), imp(x4, x6)), and(x3, x7))))\n",
    "\n",
    "! python3 main.py --nvars 7 --expr \"not(or(and(equiv(x1, x2), equiv(x3, x4)), or(equiv(imp(x1, x5), imp(x4, x6)), and(x3, x7))))\" --call test_stats"
   ]
  },
  {
   "cell_type": "code",
   "execution_count": 3,
   "metadata": {},
   "outputs": [
    {
     "name": "stdout",
     "output_type": "stream",
     "text": [
      "Build and Make: 0:00:28.956934s\r\n",
      "Apply: 0:00:00.000133s\r\n",
      "Restrict: 0:00:00.000083s\r\n",
      "StatCount: 0:00:00.000068s\r\n",
      "AnySat: 0:00:00.000009s\r\n",
      "AllSat: 0:00:00.000041s\r\n"
     ]
    }
   ],
   "source": [
    "# Runtime Analysis\n",
    "\n",
    "## Expr: not(or(and(equiv(x1, x2), equiv(x3, x4)), or(equiv(imp(x1, x5), imp(x4, x6)), and(x3, x7))))\n",
    "\n",
    "! python3 main.py --nvars 22 --expr \"not(or(and(equiv(x1, x2), equiv(x3, x4)), or(equiv(imp(x1, x5), imp(x4, x6)), and(x3, x7))))\" --nvars1 20 --expr1 \"and(equiv(x1, x2), equiv(x3, x4))\" --nvars2 20 --expr2 \"or(equiv(imp(x1, x5), imp(x4, x6)), and(x3, x7))\" --op \"or\" --j 2 --b 1 --call test_time_checks"
   ]
  },
  {
   "cell_type": "code",
   "execution_count": 22,
   "metadata": {},
   "outputs": [
    {
     "name": "stdout",
     "output_type": "stream",
     "text": [
      "Build and Make: 0:00:07.065784s\r\n",
      "Apply: 0:00:00.000118s\r\n",
      "Restrict: 0:00:00.000090s\r\n",
      "StatCount: 0:00:00.000070s\r\n",
      "AnySat: 0:00:00.000011s\r\n",
      "AllSat: 0:00:00.000045s\r\n"
     ]
    }
   ],
   "source": [
    "! python3 main.py --nvars 20 --expr \"not(or(and(equiv(x1, x2), equiv(x3, x4)), or(equiv(imp(x1, x5), imp(x4, x6)), and(x3, x20))))\" --nvars1 20 --expr1 \"and(equiv(x1, x2), equiv(x15, x20))\" --nvars2 20 --expr2 \"or(equiv(imp(x1, x5), imp(x4, x6)), and(x15, x20))\" --op \"or\" --j 2 --b 1 --call test_time_checks"
   ]
  },
  {
   "cell_type": "code",
   "execution_count": 27,
   "metadata": {},
   "outputs": [
    {
     "name": "stdout",
     "output_type": "stream",
     "text": [
      "Number of nodes in expression 1 8.\r\n",
      "Number of nodes in expression 2 18.\r\n",
      "Apply: 0:00:00.000127s\r\n"
     ]
    }
   ],
   "source": [
    "# Test Apply\n",
    "\n",
    "! python3 main.py --nvars1 7 --expr1 \"and(equiv(x1, x2), equiv(x3, x4))\" --nvars2 7 --expr2 \"or(equiv(imp(x1, x5), imp(x4, x6)), and(x3, x7))\" --op \"or\" --j 2 --b 1 --call test_apply_etal"
   ]
  },
  {
   "cell_type": "code",
   "execution_count": 30,
   "metadata": {},
   "outputs": [
    {
     "name": "stdout",
     "output_type": "stream",
     "text": [
      "Number of nodes in expression 1 5.\r\n",
      "Number of nodes in expression 2 4.\r\n",
      "Apply: 0:00:00.000044s\r\n"
     ]
    }
   ],
   "source": [
    "# Test Apply\n",
    "\n",
    "! python3 main.py --nvars1 7 --expr1 \"equiv(x7, x4)\" --nvars2 7 --expr2 \"and(x3, x7)\" --op \"or\" --j 2 --b 1 --call test_apply_etal"
   ]
  },
  {
   "cell_type": "code",
   "execution_count": 32,
   "metadata": {},
   "outputs": [
    {
     "name": "stdout",
     "output_type": "stream",
     "text": [
      "Number of nodes in the ROBDD = 24\r\n",
      "Restrict: 0:00:00.000098s\r\n",
      "StatCount: 0:00:00.000076s\r\n",
      "AnySat: 0:00:00.000012s\r\n",
      "AllSat: 0:00:00.000048s\r\n"
     ]
    }
   ],
   "source": [
    "# test Restrict et al\n",
    "\n",
    "! python3 main.py --nvars 20 --expr \"not(or(and(equiv(x1, x2), equiv(x3, x4)), or(equiv(imp(x1, x5), imp(x4, x6)), and(x3, x7))))\" --j 2 --b 1 --call test_restrict_etal"
   ]
  },
  {
   "cell_type": "code",
   "execution_count": 36,
   "metadata": {},
   "outputs": [
    {
     "name": "stdout",
     "output_type": "stream",
     "text": [
      "Number of nodes in the ROBDD = 4\r\n",
      "Restrict: 0:00:00.000018s\r\n",
      "StatCount: 0:00:00.000022s\r\n",
      "AnySat: 0:00:00.000006s\r\n",
      "AllSat: 0:00:00.000006s\r\n"
     ]
    }
   ],
   "source": [
    "! python3 main.py --nvars 7 --expr \"and(x7, x4)\" --j 4 --b 1 --call test_restrict_etal"
   ]
  },
  {
   "cell_type": "code",
   "execution_count": 39,
   "metadata": {},
   "outputs": [
    {
     "name": "stdout",
     "output_type": "stream",
     "text": [
      "| u | i |  l |  h |\r\n",
      "| 0 | 3 | -1 | -1 |\r\n",
      "| 1 | 3 | -1 | -1 |\r\n",
      "| 2 | 2 | 0 | 1 |\r\n",
      "| 3 | 1 | 1 | 2 |\r\n",
      "\r\n"
     ]
    }
   ],
   "source": [
    "# Test Equivalence\n",
    "## Expr: imp(x1, x2)\n",
    "\n",
    "! python3 main.py --nvars 2 --expr \"imp(x1, x2)\" --call test_build_mk"
   ]
  },
  {
   "cell_type": "code",
   "execution_count": 38,
   "metadata": {},
   "outputs": [
    {
     "name": "stdout",
     "output_type": "stream",
     "text": [
      "| u | i |  l |  h |\r\n",
      "| 0 | 3 | -1 | -1 |\r\n",
      "| 1 | 3 | -1 | -1 |\r\n",
      "| 2 | 2 | 0 | 1 |\r\n",
      "| 3 | 1 | 1 | 2 |\r\n",
      "\r\n"
     ]
    }
   ],
   "source": [
    "# Test Equivalence\n",
    "## Expr: imp(not(x1), not(x2))\n",
    "\n",
    "! python3 main.py --nvars 2 --expr \"imp(not(x2), not(x1))\" --call test_build_mk"
   ]
  },
  {
   "cell_type": "code",
   "execution_count": null,
   "metadata": {},
   "outputs": [],
   "source": []
  }
 ],
 "metadata": {
  "kernelspec": {
   "display_name": "Python 3",
   "language": "python",
   "name": "python3"
  },
  "language_info": {
   "codemirror_mode": {
    "name": "ipython",
    "version": 3
   },
   "file_extension": ".py",
   "mimetype": "text/x-python",
   "name": "python",
   "nbconvert_exporter": "python",
   "pygments_lexer": "ipython3",
   "version": "3.6.8"
  }
 },
 "nbformat": 4,
 "nbformat_minor": 4
}
