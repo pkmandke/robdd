{
 "cells": [
  {
   "cell_type": "markdown",
   "metadata": {},
   "source": [
    "# Functional Tests"
   ]
  },
  {
   "cell_type": "code",
   "execution_count": 1,
   "metadata": {},
   "outputs": [],
   "source": [
    "import wrapper"
   ]
  },
  {
   "cell_type": "code",
   "execution_count": 4,
   "metadata": {},
   "outputs": [
    {
     "name": "stdout",
     "output_type": "stream",
     "text": [
      "ROBDD constructed from inout expression. T table is {0: (5, -1, -1), 1: (5, -1, -1), 2: (4, 1, 0), 3: (4, 0, 1), 4: (3, 2, 3), 5: (2, 4, 0), 6: (2, 0, 4), 7: (1, 5, 6)} and root node is 7\r\n",
      "AllSat utlitity output: ({'var_idx': [4, 3, 2, 1], 'val': [0, 0, 0, 0]}, {'var_idx': [4, 3, 2, 1], 'val': [1, 1, 0, 0]}, {'var_idx': [4, 3, 2, 1], 'val': [0, 0, 1, 1]}, {'var_idx': [4, 3, 2, 1], 'val': [1, 1, 1, 1]})\r\n",
      "AnySat utlitity output: (-1, 1, 1, 1, 1)\r\n",
      "StatCount utlitity output: 4\r\n",
      "Applying expr1 op expr2 returns:\r\n",
      "First input cannot be constant or variable. It must be a boolean function among: ['and', 'or', 'not', 'equiv', 'imp']\r\n",
      "First input cannot be constant or variable. It must be a boolean function among: ['and', 'or', 'not', 'equiv', 'imp']\r\n",
      "Traceback (most recent call last):\r\n",
      "  File \"main.py\", line 28, in <module>\r\n",
      "    main()\r\n",
      "  File \"main.py\", line 21, in main\r\n",
      "    print(\"ROBDD: {0}.\".format(test_obj.apply().T))\r\n",
      "  File \"/media/pkmandke/DATA/ECE/courses/eda/lab_1/src/py/wrapper.py\", line 40, in apply\r\n",
      "    self.robdds[0].Build(), self.robdds[1].Build()\r\n",
      "  File \"/media/pkmandke/DATA/ECE/courses/eda/lab_1/src/py/robdd.py\", line 123, in Build\r\n",
      "    self.root_u = build_util(1)\r\n",
      "  File \"/media/pkmandke/DATA/ECE/courses/eda/lab_1/src/py/robdd.py\", line 114, in build_util\r\n",
      "    self.expr.x[i] = 0\r\n",
      "IndexError: list assignment index out of range\r\n"
     ]
    }
   ],
   "source": [
    "! python3 main.py --nvars 4 --expr \"and(equiv(x1, x2), equiv(x3, x4))\" "
   ]
  },
  {
   "cell_type": "code",
   "execution_count": null,
   "metadata": {},
   "outputs": [],
   "source": []
  }
 ],
 "metadata": {
  "kernelspec": {
   "display_name": "Python 3",
   "language": "python",
   "name": "python3"
  },
  "language_info": {
   "codemirror_mode": {
    "name": "ipython",
    "version": 3
   },
   "file_extension": ".py",
   "mimetype": "text/x-python",
   "name": "python",
   "nbconvert_exporter": "python",
   "pygments_lexer": "ipython3",
   "version": "3.6.8"
  }
 },
 "nbformat": 4,
 "nbformat_minor": 4
}
